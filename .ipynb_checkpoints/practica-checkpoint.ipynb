{
 "cells": [
  {
   "cell_type": "markdown",
   "id": "014fbca8-e24e-4832-af24-e9857ccc275d",
   "metadata": {},
   "source": [
    "# Práctica BigData Processing"
   ]
  },
  {
   "cell_type": "markdown",
   "id": "ff90f889-ff3d-4415-b828-373676a92b1c",
   "metadata": {},
   "source": []
  }
 ],
 "metadata": {
  "kernelspec": {
   "display_name": "Python 3 (ipykernel)",
   "language": "python",
   "name": "python3"
  },
  "language_info": {
   "codemirror_mode": {
    "name": "ipython",
    "version": 3
   },
   "file_extension": ".py",
   "mimetype": "text/x-python",
   "name": "python",
   "nbconvert_exporter": "python",
   "pygments_lexer": "ipython3",
   "version": "3.11.3"
  }
 },
 "nbformat": 4,
 "nbformat_minor": 5
}
